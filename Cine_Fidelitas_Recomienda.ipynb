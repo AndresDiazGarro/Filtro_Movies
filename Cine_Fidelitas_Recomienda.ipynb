{
 "cells": [
  {
   "cell_type": "markdown",
   "id": "2b79b92e-34bf-42cc-97aa-f73560cc17c0",
   "metadata": {},
   "source": [
    "#Proyecto Recomendación de Peliculas"
   ]
  },
  {
   "cell_type": "code",
   "execution_count": 1,
   "id": "fb27eb71-f00e-4869-83cd-dd1c75f92333",
   "metadata": {},
   "outputs": [],
   "source": [
    "import pandas as pd\n",
    "import numpy as np\n",
    "import matplotlib.pyplot as plt\n",
    "import seaborn as sns"
   ]
  },
  {
   "cell_type": "code",
   "execution_count": 2,
   "id": "53610799-b800-4a04-aa17-cc2bc09ed773",
   "metadata": {},
   "outputs": [],
   "source": [
    "peliculas = pd.read_csv('Datos/movies.csv', sep= \",\")"
   ]
  },
  {
   "cell_type": "code",
   "execution_count": 3,
   "id": "03bbb7d5-40b2-4894-9fd7-6b5c0103d2f2",
   "metadata": {},
   "outputs": [
    {
     "data": {
      "text/plain": [
       "Index(['movieId', 'title', 'genres'], dtype='object')"
      ]
     },
     "execution_count": 3,
     "metadata": {},
     "output_type": "execute_result"
    }
   ],
   "source": [
    "peliculas.columns"
   ]
  },
  {
   "cell_type": "code",
   "execution_count": 4,
   "id": "b907fe7f-69ce-46e9-a0e1-a3f8b060668c",
   "metadata": {},
   "outputs": [],
   "source": [
    "peliculas = peliculas [['movieId', 'title', 'genres']]"
   ]
  },
  {
   "cell_type": "code",
   "execution_count": 5,
   "id": "6a2118e2-1363-4f93-a514-2ac55c049305",
   "metadata": {},
   "outputs": [
    {
     "data": {
      "text/html": [
       "<div>\n",
       "<style scoped>\n",
       "    .dataframe tbody tr th:only-of-type {\n",
       "        vertical-align: middle;\n",
       "    }\n",
       "\n",
       "    .dataframe tbody tr th {\n",
       "        vertical-align: top;\n",
       "    }\n",
       "\n",
       "    .dataframe thead th {\n",
       "        text-align: right;\n",
       "    }\n",
       "</style>\n",
       "<table border=\"1\" class=\"dataframe\">\n",
       "  <thead>\n",
       "    <tr style=\"text-align: right;\">\n",
       "      <th></th>\n",
       "      <th>movieId</th>\n",
       "      <th>title</th>\n",
       "      <th>genres</th>\n",
       "    </tr>\n",
       "  </thead>\n",
       "  <tbody>\n",
       "    <tr>\n",
       "      <th>0</th>\n",
       "      <td>1</td>\n",
       "      <td>Toy Story (1995)</td>\n",
       "      <td>Adventure|Animation|Children|Comedy|Fantasy</td>\n",
       "    </tr>\n",
       "    <tr>\n",
       "      <th>1</th>\n",
       "      <td>2</td>\n",
       "      <td>Jumanji (1995)</td>\n",
       "      <td>Adventure|Children|Fantasy</td>\n",
       "    </tr>\n",
       "  </tbody>\n",
       "</table>\n",
       "</div>"
      ],
      "text/plain": [
       "   movieId             title                                       genres\n",
       "0        1  Toy Story (1995)  Adventure|Animation|Children|Comedy|Fantasy\n",
       "1        2    Jumanji (1995)                   Adventure|Children|Fantasy"
      ]
     },
     "execution_count": 5,
     "metadata": {},
     "output_type": "execute_result"
    }
   ],
   "source": [
    "peliculas.head(2)"
   ]
  },
  {
   "cell_type": "code",
   "execution_count": 6,
   "id": "0c3f9c0a-e3b1-482d-aca2-22752e296e53",
   "metadata": {},
   "outputs": [],
   "source": [
    "peliculas.rename(columns={\n",
    "    \"movieId\": \"ID Película\",\n",
    "    \"title\": \"Título\",\n",
    "    \"genres\": \"Géneros\"}, inplace = True)"
   ]
  },
  {
   "cell_type": "code",
   "execution_count": 7,
   "id": "6f97e1a8-692a-44ae-8a42-934ca1fc5636",
   "metadata": {},
   "outputs": [
    {
     "data": {
      "text/html": [
       "<div>\n",
       "<style scoped>\n",
       "    .dataframe tbody tr th:only-of-type {\n",
       "        vertical-align: middle;\n",
       "    }\n",
       "\n",
       "    .dataframe tbody tr th {\n",
       "        vertical-align: top;\n",
       "    }\n",
       "\n",
       "    .dataframe thead th {\n",
       "        text-align: right;\n",
       "    }\n",
       "</style>\n",
       "<table border=\"1\" class=\"dataframe\">\n",
       "  <thead>\n",
       "    <tr style=\"text-align: right;\">\n",
       "      <th></th>\n",
       "      <th>ID Película</th>\n",
       "      <th>Título</th>\n",
       "      <th>Géneros</th>\n",
       "    </tr>\n",
       "  </thead>\n",
       "  <tbody>\n",
       "    <tr>\n",
       "      <th>0</th>\n",
       "      <td>1</td>\n",
       "      <td>Toy Story (1995)</td>\n",
       "      <td>Adventure|Animation|Children|Comedy|Fantasy</td>\n",
       "    </tr>\n",
       "    <tr>\n",
       "      <th>1</th>\n",
       "      <td>2</td>\n",
       "      <td>Jumanji (1995)</td>\n",
       "      <td>Adventure|Children|Fantasy</td>\n",
       "    </tr>\n",
       "  </tbody>\n",
       "</table>\n",
       "</div>"
      ],
      "text/plain": [
       "   ID Película            Título                                      Géneros\n",
       "0            1  Toy Story (1995)  Adventure|Animation|Children|Comedy|Fantasy\n",
       "1            2    Jumanji (1995)                   Adventure|Children|Fantasy"
      ]
     },
     "execution_count": 7,
     "metadata": {},
     "output_type": "execute_result"
    }
   ],
   "source": [
    "peliculas.head(2)"
   ]
  },
  {
   "cell_type": "code",
   "execution_count": 8,
   "id": "54a709ff-b033-4dd5-b682-2aa5896c3e71",
   "metadata": {},
   "outputs": [],
   "source": [
    "clasificaciones = pd.read_csv('Datos/ratings.csv', sep= \",\")"
   ]
  },
  {
   "cell_type": "code",
   "execution_count": 9,
   "id": "96452294-32b0-4f44-9e8b-44366ba15c01",
   "metadata": {},
   "outputs": [],
   "source": [
    "clasificaciones.rename(columns={\n",
    "    \"userId\": \"ID Usuario\",\n",
    "    \"movieId\": \"ID Película\",\n",
    "    \"rating\": \"Clasificación\",\n",
    "    \"timestamp\": \"Marca de Tiempo\"}, inplace = True)"
   ]
  },
  {
   "cell_type": "code",
   "execution_count": 10,
   "id": "d1fd2983-53fd-4df3-9c8e-5a662d205c04",
   "metadata": {},
   "outputs": [
    {
     "data": {
      "text/plain": [
       "(668,)"
      ]
     },
     "execution_count": 10,
     "metadata": {},
     "output_type": "execute_result"
    }
   ],
   "source": [
    "clasificaciones['ID Usuario'].unique().shape"
   ]
  },
  {
   "cell_type": "code",
   "execution_count": 11,
   "id": "864303ba-dba2-45fa-b860-e88ae032dfad",
   "metadata": {},
   "outputs": [
    {
     "data": {
      "text/html": [
       "<div>\n",
       "<style scoped>\n",
       "    .dataframe tbody tr th:only-of-type {\n",
       "        vertical-align: middle;\n",
       "    }\n",
       "\n",
       "    .dataframe tbody tr th {\n",
       "        vertical-align: top;\n",
       "    }\n",
       "\n",
       "    .dataframe thead th {\n",
       "        text-align: right;\n",
       "    }\n",
       "</style>\n",
       "<table border=\"1\" class=\"dataframe\">\n",
       "  <thead>\n",
       "    <tr style=\"text-align: right;\">\n",
       "      <th></th>\n",
       "      <th>ID Usuario</th>\n",
       "      <th>ID Película</th>\n",
       "      <th>Clasificación</th>\n",
       "      <th>Marca de Tiempo</th>\n",
       "    </tr>\n",
       "  </thead>\n",
       "  <tbody>\n",
       "    <tr>\n",
       "      <th>0</th>\n",
       "      <td>1</td>\n",
       "      <td>16</td>\n",
       "      <td>4.0</td>\n",
       "      <td>1217897793</td>\n",
       "    </tr>\n",
       "    <tr>\n",
       "      <th>1</th>\n",
       "      <td>1</td>\n",
       "      <td>24</td>\n",
       "      <td>1.5</td>\n",
       "      <td>1217895807</td>\n",
       "    </tr>\n",
       "  </tbody>\n",
       "</table>\n",
       "</div>"
      ],
      "text/plain": [
       "   ID Usuario  ID Película  Clasificación  Marca de Tiempo\n",
       "0           1           16            4.0       1217897793\n",
       "1           1           24            1.5       1217895807"
      ]
     },
     "execution_count": 11,
     "metadata": {},
     "output_type": "execute_result"
    }
   ],
   "source": [
    "clasificaciones.head(2)"
   ]
  },
  {
   "cell_type": "code",
   "execution_count": 12,
   "id": "d492bd72-4c8f-4445-8d12-4ee114e7be40",
   "metadata": {},
   "outputs": [
    {
     "data": {
      "text/plain": [
       "ID Usuario\n",
       "668    5678\n",
       "575    2837\n",
       "458    2086\n",
       "232    1421\n",
       "310    1287\n",
       "       ... \n",
       "58       20\n",
       "51       20\n",
       "288      20\n",
       "388      20\n",
       "257      20\n",
       "Name: count, Length: 668, dtype: int64"
      ]
     },
     "execution_count": 12,
     "metadata": {},
     "output_type": "execute_result"
    }
   ],
   "source": [
    "clasificaciones['ID Usuario'].value_counts()"
   ]
  },
  {
   "cell_type": "code",
   "execution_count": 13,
   "id": "94f5568c-18d5-4a1d-8280-ced5bc154fd1",
   "metadata": {},
   "outputs": [],
   "source": [
    "x = clasificaciones['ID Usuario'].value_counts() > 30"
   ]
  },
  {
   "cell_type": "code",
   "execution_count": 14,
   "id": "07bed0f6-b94f-43b7-ad56-228f4904be1f",
   "metadata": {},
   "outputs": [
    {
     "data": {
      "text/plain": [
       "(541,)"
      ]
     },
     "execution_count": 14,
     "metadata": {},
     "output_type": "execute_result"
    }
   ],
   "source": [
    "x[x].shape"
   ]
  },
  {
   "cell_type": "code",
   "execution_count": 15,
   "id": "35798af0-17ba-49e5-a428-fde58617254b",
   "metadata": {},
   "outputs": [],
   "source": [
    "y = x[x].index"
   ]
  },
  {
   "cell_type": "code",
   "execution_count": 16,
   "id": "1b1a3c9a-de70-4712-9a88-2f2843a0ec3e",
   "metadata": {},
   "outputs": [
    {
     "data": {
      "text/plain": [
       "Index([668, 575, 458, 232, 310, 475, 128, 224, 607,  63,\n",
       "       ...\n",
       "       639, 507, 385, 648, 162, 227, 658, 356, 486, 165],\n",
       "      dtype='int64', name='ID Usuario', length=541)"
      ]
     },
     "execution_count": 16,
     "metadata": {},
     "output_type": "execute_result"
    }
   ],
   "source": [
    "y"
   ]
  },
  {
   "cell_type": "code",
   "execution_count": 17,
   "id": "2037955c-feab-4bc6-935d-1a70e6855c48",
   "metadata": {},
   "outputs": [],
   "source": [
    "# Creo un DataFrame filtrado para usuarios con más de 30 clasificaciones\n",
    "clasificaciones_filtradas = clasificaciones[clasificaciones['ID Usuario'].isin(y)]"
   ]
  },
  {
   "cell_type": "code",
   "execution_count": 20,
   "id": "69f56731-b3fe-4313-a93a-45259e823081",
   "metadata": {},
   "outputs": [
    {
     "data": {
      "text/html": [
       "<div>\n",
       "<style scoped>\n",
       "    .dataframe tbody tr th:only-of-type {\n",
       "        vertical-align: middle;\n",
       "    }\n",
       "\n",
       "    .dataframe tbody tr th {\n",
       "        vertical-align: top;\n",
       "    }\n",
       "\n",
       "    .dataframe thead th {\n",
       "        text-align: right;\n",
       "    }\n",
       "</style>\n",
       "<table border=\"1\" class=\"dataframe\">\n",
       "  <thead>\n",
       "    <tr style=\"text-align: right;\">\n",
       "      <th></th>\n",
       "      <th>ID Usuario</th>\n",
       "      <th>ID Película</th>\n",
       "      <th>Clasificación</th>\n",
       "      <th>Marca de Tiempo</th>\n",
       "    </tr>\n",
       "  </thead>\n",
       "  <tbody>\n",
       "    <tr>\n",
       "      <th>0</th>\n",
       "      <td>1</td>\n",
       "      <td>16</td>\n",
       "      <td>4.0</td>\n",
       "      <td>1217897793</td>\n",
       "    </tr>\n",
       "    <tr>\n",
       "      <th>1</th>\n",
       "      <td>1</td>\n",
       "      <td>24</td>\n",
       "      <td>1.5</td>\n",
       "      <td>1217895807</td>\n",
       "    </tr>\n",
       "    <tr>\n",
       "      <th>2</th>\n",
       "      <td>1</td>\n",
       "      <td>32</td>\n",
       "      <td>4.0</td>\n",
       "      <td>1217896246</td>\n",
       "    </tr>\n",
       "    <tr>\n",
       "      <th>3</th>\n",
       "      <td>1</td>\n",
       "      <td>47</td>\n",
       "      <td>4.0</td>\n",
       "      <td>1217896556</td>\n",
       "    </tr>\n",
       "    <tr>\n",
       "      <th>4</th>\n",
       "      <td>1</td>\n",
       "      <td>50</td>\n",
       "      <td>4.0</td>\n",
       "      <td>1217896523</td>\n",
       "    </tr>\n",
       "  </tbody>\n",
       "</table>\n",
       "</div>"
      ],
      "text/plain": [
       "   ID Usuario  ID Película  Clasificación  Marca de Tiempo\n",
       "0           1           16            4.0       1217897793\n",
       "1           1           24            1.5       1217895807\n",
       "2           1           32            4.0       1217896246\n",
       "3           1           47            4.0       1217896556\n",
       "4           1           50            4.0       1217896523"
      ]
     },
     "execution_count": 20,
     "metadata": {},
     "output_type": "execute_result"
    }
   ],
   "source": [
    "clasificaciones_filtradas.head()"
   ]
  },
  {
   "cell_type": "code",
   "execution_count": 22,
   "id": "18985311-3b96-4d7b-8eb6-d81e8fcab173",
   "metadata": {},
   "outputs": [
    {
     "data": {
      "text/html": [
       "<div>\n",
       "<style scoped>\n",
       "    .dataframe tbody tr th:only-of-type {\n",
       "        vertical-align: middle;\n",
       "    }\n",
       "\n",
       "    .dataframe tbody tr th {\n",
       "        vertical-align: top;\n",
       "    }\n",
       "\n",
       "    .dataframe thead th {\n",
       "        text-align: right;\n",
       "    }\n",
       "</style>\n",
       "<table border=\"1\" class=\"dataframe\">\n",
       "  <thead>\n",
       "    <tr style=\"text-align: right;\">\n",
       "      <th></th>\n",
       "      <th>ID Película</th>\n",
       "      <th>Título</th>\n",
       "      <th>Géneros</th>\n",
       "    </tr>\n",
       "  </thead>\n",
       "  <tbody>\n",
       "    <tr>\n",
       "      <th>0</th>\n",
       "      <td>1</td>\n",
       "      <td>Toy Story (1995)</td>\n",
       "      <td>Adventure|Animation|Children|Comedy|Fantasy</td>\n",
       "    </tr>\n",
       "    <tr>\n",
       "      <th>1</th>\n",
       "      <td>2</td>\n",
       "      <td>Jumanji (1995)</td>\n",
       "      <td>Adventure|Children|Fantasy</td>\n",
       "    </tr>\n",
       "    <tr>\n",
       "      <th>2</th>\n",
       "      <td>3</td>\n",
       "      <td>Grumpier Old Men (1995)</td>\n",
       "      <td>Comedy|Romance</td>\n",
       "    </tr>\n",
       "    <tr>\n",
       "      <th>3</th>\n",
       "      <td>4</td>\n",
       "      <td>Waiting to Exhale (1995)</td>\n",
       "      <td>Comedy|Drama|Romance</td>\n",
       "    </tr>\n",
       "    <tr>\n",
       "      <th>4</th>\n",
       "      <td>5</td>\n",
       "      <td>Father of the Bride Part II (1995)</td>\n",
       "      <td>Comedy</td>\n",
       "    </tr>\n",
       "  </tbody>\n",
       "</table>\n",
       "</div>"
      ],
      "text/plain": [
       "   ID Película                              Título  \\\n",
       "0            1                    Toy Story (1995)   \n",
       "1            2                      Jumanji (1995)   \n",
       "2            3             Grumpier Old Men (1995)   \n",
       "3            4            Waiting to Exhale (1995)   \n",
       "4            5  Father of the Bride Part II (1995)   \n",
       "\n",
       "                                       Géneros  \n",
       "0  Adventure|Animation|Children|Comedy|Fantasy  \n",
       "1                   Adventure|Children|Fantasy  \n",
       "2                               Comedy|Romance  \n",
       "3                         Comedy|Drama|Romance  \n",
       "4                                       Comedy  "
      ]
     },
     "execution_count": 22,
     "metadata": {},
     "output_type": "execute_result"
    }
   ],
   "source": [
    "peliculas.head()"
   ]
  },
  {
   "cell_type": "code",
   "execution_count": 23,
   "id": "2cf8740b-ccc4-4c12-b08d-64a243b54d48",
   "metadata": {},
   "outputs": [],
   "source": [
    "clasificaciones_Con_Peliculas = clasificaciones.merge(peliculas, on = \"ID Película\")"
   ]
  },
  {
   "cell_type": "code",
   "execution_count": 26,
   "id": "a4379145-8f01-49c2-93be-f1bd93575fe7",
   "metadata": {},
   "outputs": [
    {
     "data": {
      "text/html": [
       "<div>\n",
       "<style scoped>\n",
       "    .dataframe tbody tr th:only-of-type {\n",
       "        vertical-align: middle;\n",
       "    }\n",
       "\n",
       "    .dataframe tbody tr th {\n",
       "        vertical-align: top;\n",
       "    }\n",
       "\n",
       "    .dataframe thead th {\n",
       "        text-align: right;\n",
       "    }\n",
       "</style>\n",
       "<table border=\"1\" class=\"dataframe\">\n",
       "  <thead>\n",
       "    <tr style=\"text-align: right;\">\n",
       "      <th></th>\n",
       "      <th>ID Usuario</th>\n",
       "      <th>ID Película</th>\n",
       "      <th>Clasificación</th>\n",
       "      <th>Marca de Tiempo</th>\n",
       "      <th>Título</th>\n",
       "      <th>Géneros</th>\n",
       "    </tr>\n",
       "  </thead>\n",
       "  <tbody>\n",
       "    <tr>\n",
       "      <th>0</th>\n",
       "      <td>1</td>\n",
       "      <td>16</td>\n",
       "      <td>4.0</td>\n",
       "      <td>1217897793</td>\n",
       "      <td>Casino (1995)</td>\n",
       "      <td>Crime|Drama</td>\n",
       "    </tr>\n",
       "    <tr>\n",
       "      <th>1</th>\n",
       "      <td>9</td>\n",
       "      <td>16</td>\n",
       "      <td>4.0</td>\n",
       "      <td>842686699</td>\n",
       "      <td>Casino (1995)</td>\n",
       "      <td>Crime|Drama</td>\n",
       "    </tr>\n",
       "  </tbody>\n",
       "</table>\n",
       "</div>"
      ],
      "text/plain": [
       "   ID Usuario  ID Película  Clasificación  Marca de Tiempo         Título  \\\n",
       "0           1           16            4.0       1217897793  Casino (1995)   \n",
       "1           9           16            4.0        842686699  Casino (1995)   \n",
       "\n",
       "       Géneros  \n",
       "0  Crime|Drama  \n",
       "1  Crime|Drama  "
      ]
     },
     "execution_count": 26,
     "metadata": {},
     "output_type": "execute_result"
    }
   ],
   "source": [
    "clasificaciones_Con_Peliculas.head(2)"
   ]
  },
  {
   "cell_type": "code",
   "execution_count": 29,
   "id": "0bfbb1df-46e2-418f-b50c-df45a408fa81",
   "metadata": {},
   "outputs": [],
   "source": [
    "numero_Clasificacion = clasificaciones_Con_Peliculas.groupby(\"Título\")['Clasificación'].count().reset_index()"
   ]
  },
  {
   "cell_type": "code",
   "execution_count": 31,
   "id": "6cea3bd8-fdae-4ddd-8178-6700cbdc556d",
   "metadata": {},
   "outputs": [
    {
     "data": {
      "text/html": [
       "<div>\n",
       "<style scoped>\n",
       "    .dataframe tbody tr th:only-of-type {\n",
       "        vertical-align: middle;\n",
       "    }\n",
       "\n",
       "    .dataframe tbody tr th {\n",
       "        vertical-align: top;\n",
       "    }\n",
       "\n",
       "    .dataframe thead th {\n",
       "        text-align: right;\n",
       "    }\n",
       "</style>\n",
       "<table border=\"1\" class=\"dataframe\">\n",
       "  <thead>\n",
       "    <tr style=\"text-align: right;\">\n",
       "      <th></th>\n",
       "      <th>Título</th>\n",
       "      <th>Clasificación</th>\n",
       "    </tr>\n",
       "  </thead>\n",
       "  <tbody>\n",
       "    <tr>\n",
       "      <th>0</th>\n",
       "      <td>'71 (2014)</td>\n",
       "      <td>1</td>\n",
       "    </tr>\n",
       "    <tr>\n",
       "      <th>1</th>\n",
       "      <td>'Hellboy': The Seeds of Creation (2004)</td>\n",
       "      <td>1</td>\n",
       "    </tr>\n",
       "  </tbody>\n",
       "</table>\n",
       "</div>"
      ],
      "text/plain": [
       "                                    Título  Clasificación\n",
       "0                               '71 (2014)              1\n",
       "1  'Hellboy': The Seeds of Creation (2004)              1"
      ]
     },
     "execution_count": 31,
     "metadata": {},
     "output_type": "execute_result"
    }
   ],
   "source": [
    "numero_Clasificacion.head(2)"
   ]
  },
  {
   "cell_type": "code",
   "execution_count": 32,
   "id": "8acd9b5b-e84e-4811-b3fa-d417bee14027",
   "metadata": {},
   "outputs": [],
   "source": [
    "numero_Clasificacion.rename(columns={\n",
    "    \"Clasificación\": \"Cantidad de Clasificaciónes\"}, inplace = True)"
   ]
  },
  {
   "cell_type": "code",
   "execution_count": 33,
   "id": "5c324c77-9d04-4b56-a0cc-c859235b541c",
   "metadata": {},
   "outputs": [
    {
     "data": {
      "text/html": [
       "<div>\n",
       "<style scoped>\n",
       "    .dataframe tbody tr th:only-of-type {\n",
       "        vertical-align: middle;\n",
       "    }\n",
       "\n",
       "    .dataframe tbody tr th {\n",
       "        vertical-align: top;\n",
       "    }\n",
       "\n",
       "    .dataframe thead th {\n",
       "        text-align: right;\n",
       "    }\n",
       "</style>\n",
       "<table border=\"1\" class=\"dataframe\">\n",
       "  <thead>\n",
       "    <tr style=\"text-align: right;\">\n",
       "      <th></th>\n",
       "      <th>Título</th>\n",
       "      <th>Cantidad de Clasificaciónes</th>\n",
       "    </tr>\n",
       "  </thead>\n",
       "  <tbody>\n",
       "    <tr>\n",
       "      <th>0</th>\n",
       "      <td>'71 (2014)</td>\n",
       "      <td>1</td>\n",
       "    </tr>\n",
       "    <tr>\n",
       "      <th>1</th>\n",
       "      <td>'Hellboy': The Seeds of Creation (2004)</td>\n",
       "      <td>1</td>\n",
       "    </tr>\n",
       "  </tbody>\n",
       "</table>\n",
       "</div>"
      ],
      "text/plain": [
       "                                    Título  Cantidad de Clasificaciónes\n",
       "0                               '71 (2014)                            1\n",
       "1  'Hellboy': The Seeds of Creation (2004)                            1"
      ]
     },
     "execution_count": 33,
     "metadata": {},
     "output_type": "execute_result"
    }
   ],
   "source": [
    "numero_Clasificacion.head(2)"
   ]
  },
  {
   "cell_type": "code",
   "execution_count": 35,
   "id": "244b97e0-50aa-4cf0-a2c6-ff99e9797ab3",
   "metadata": {},
   "outputs": [],
   "source": [
    "#Dataframe final y limpio\n",
    "clasificaciones_Finales = clasificaciones_Con_Peliculas.merge(numero_Clasificacion, on = 'Título')"
   ]
  },
  {
   "cell_type": "code",
   "execution_count": 36,
   "id": "9f896a93-deae-48f1-9ad8-f236651972a3",
   "metadata": {},
   "outputs": [
    {
     "data": {
      "text/html": [
       "<div>\n",
       "<style scoped>\n",
       "    .dataframe tbody tr th:only-of-type {\n",
       "        vertical-align: middle;\n",
       "    }\n",
       "\n",
       "    .dataframe tbody tr th {\n",
       "        vertical-align: top;\n",
       "    }\n",
       "\n",
       "    .dataframe thead th {\n",
       "        text-align: right;\n",
       "    }\n",
       "</style>\n",
       "<table border=\"1\" class=\"dataframe\">\n",
       "  <thead>\n",
       "    <tr style=\"text-align: right;\">\n",
       "      <th></th>\n",
       "      <th>ID Usuario</th>\n",
       "      <th>ID Película</th>\n",
       "      <th>Clasificación</th>\n",
       "      <th>Marca de Tiempo</th>\n",
       "      <th>Título</th>\n",
       "      <th>Géneros</th>\n",
       "      <th>Cantidad de Clasificaciónes</th>\n",
       "    </tr>\n",
       "  </thead>\n",
       "  <tbody>\n",
       "    <tr>\n",
       "      <th>0</th>\n",
       "      <td>1</td>\n",
       "      <td>16</td>\n",
       "      <td>4.0</td>\n",
       "      <td>1217897793</td>\n",
       "      <td>Casino (1995)</td>\n",
       "      <td>Crime|Drama</td>\n",
       "      <td>84</td>\n",
       "    </tr>\n",
       "    <tr>\n",
       "      <th>1</th>\n",
       "      <td>9</td>\n",
       "      <td>16</td>\n",
       "      <td>4.0</td>\n",
       "      <td>842686699</td>\n",
       "      <td>Casino (1995)</td>\n",
       "      <td>Crime|Drama</td>\n",
       "      <td>84</td>\n",
       "    </tr>\n",
       "  </tbody>\n",
       "</table>\n",
       "</div>"
      ],
      "text/plain": [
       "   ID Usuario  ID Película  Clasificación  Marca de Tiempo         Título  \\\n",
       "0           1           16            4.0       1217897793  Casino (1995)   \n",
       "1           9           16            4.0        842686699  Casino (1995)   \n",
       "\n",
       "       Géneros  Cantidad de Clasificaciónes  \n",
       "0  Crime|Drama                           84  \n",
       "1  Crime|Drama                           84  "
      ]
     },
     "execution_count": 36,
     "metadata": {},
     "output_type": "execute_result"
    }
   ],
   "source": [
    "clasificaciones_Finales.head(2)"
   ]
  },
  {
   "cell_type": "code",
   "execution_count": 37,
   "id": "a380c5a0-8fe1-491d-acf1-df809976efde",
   "metadata": {},
   "outputs": [
    {
     "data": {
      "text/plain": [
       "(105339, 7)"
      ]
     },
     "execution_count": 37,
     "metadata": {},
     "output_type": "execute_result"
    }
   ],
   "source": [
    "clasificaciones_Finales.shape"
   ]
  },
  {
   "cell_type": "code",
   "execution_count": 38,
   "id": "f871b890-cf46-4230-a2fb-404d0ffe3350",
   "metadata": {},
   "outputs": [],
   "source": [
    "clasificaciones_Finales = clasificaciones_Finales[clasificaciones_Finales['Cantidad de Clasificaciónes']>29]"
   ]
  },
  {
   "cell_type": "code",
   "execution_count": 39,
   "id": "cfe9bdcc-5930-4911-a0c3-ea5131e30494",
   "metadata": {},
   "outputs": [
    {
     "data": {
      "text/plain": [
       "(60177, 7)"
      ]
     },
     "execution_count": 39,
     "metadata": {},
     "output_type": "execute_result"
    }
   ],
   "source": [
    "clasificaciones_Finales.shape"
   ]
  },
  {
   "cell_type": "code",
   "execution_count": 44,
   "id": "af3aa4c4-13bc-4cf6-b113-b5d69d56301b",
   "metadata": {},
   "outputs": [],
   "source": [
    "clasificaciones_Finales.drop_duplicates(['ID Usuario','Título'], inplace = True)"
   ]
  },
  {
   "cell_type": "code",
   "execution_count": 45,
   "id": "3e525f9f-26b5-49dc-bdad-c58b20bed696",
   "metadata": {},
   "outputs": [
    {
     "data": {
      "text/plain": [
       "(60175, 7)"
      ]
     },
     "execution_count": 45,
     "metadata": {},
     "output_type": "execute_result"
    }
   ],
   "source": [
    "clasificaciones_Finales.shape"
   ]
  },
  {
   "cell_type": "code",
   "execution_count": null,
   "id": "847d8072-579c-469a-97e8-70abc79d9c20",
   "metadata": {},
   "outputs": [],
   "source": [
    "#Dataframe: clasificaciones_Finales listo al 100% ahora toca aplicar la tabla Pivot"
   ]
  },
  {
   "cell_type": "code",
   "execution_count": 46,
   "id": "ce3ed85b-77f6-4a86-a11d-9ef0fec5f5c1",
   "metadata": {},
   "outputs": [],
   "source": [
    "peliculas_Tabla_Pivot = clasificaciones_Finales.pivot_table(columns='ID Usuario', index= \"Título\", values = 'Clasificación')"
   ]
  },
  {
   "cell_type": "code",
   "execution_count": 47,
   "id": "62dcf6c9-b7a0-427c-a0f2-d6c574d8dfda",
   "metadata": {},
   "outputs": [
    {
     "data": {
      "text/html": [
       "<div>\n",
       "<style scoped>\n",
       "    .dataframe tbody tr th:only-of-type {\n",
       "        vertical-align: middle;\n",
       "    }\n",
       "\n",
       "    .dataframe tbody tr th {\n",
       "        vertical-align: top;\n",
       "    }\n",
       "\n",
       "    .dataframe thead th {\n",
       "        text-align: right;\n",
       "    }\n",
       "</style>\n",
       "<table border=\"1\" class=\"dataframe\">\n",
       "  <thead>\n",
       "    <tr style=\"text-align: right;\">\n",
       "      <th>ID Usuario</th>\n",
       "      <th>1</th>\n",
       "      <th>2</th>\n",
       "      <th>3</th>\n",
       "      <th>4</th>\n",
       "      <th>5</th>\n",
       "      <th>6</th>\n",
       "      <th>7</th>\n",
       "      <th>8</th>\n",
       "      <th>9</th>\n",
       "      <th>10</th>\n",
       "      <th>...</th>\n",
       "      <th>659</th>\n",
       "      <th>660</th>\n",
       "      <th>661</th>\n",
       "      <th>662</th>\n",
       "      <th>663</th>\n",
       "      <th>664</th>\n",
       "      <th>665</th>\n",
       "      <th>666</th>\n",
       "      <th>667</th>\n",
       "      <th>668</th>\n",
       "    </tr>\n",
       "    <tr>\n",
       "      <th>Título</th>\n",
       "      <th></th>\n",
       "      <th></th>\n",
       "      <th></th>\n",
       "      <th></th>\n",
       "      <th></th>\n",
       "      <th></th>\n",
       "      <th></th>\n",
       "      <th></th>\n",
       "      <th></th>\n",
       "      <th></th>\n",
       "      <th></th>\n",
       "      <th></th>\n",
       "      <th></th>\n",
       "      <th></th>\n",
       "      <th></th>\n",
       "      <th></th>\n",
       "      <th></th>\n",
       "      <th></th>\n",
       "      <th></th>\n",
       "      <th></th>\n",
       "      <th></th>\n",
       "    </tr>\n",
       "  </thead>\n",
       "  <tbody>\n",
       "    <tr>\n",
       "      <th>(500) Days of Summer (2009)</th>\n",
       "      <td>NaN</td>\n",
       "      <td>NaN</td>\n",
       "      <td>NaN</td>\n",
       "      <td>NaN</td>\n",
       "      <td>NaN</td>\n",
       "      <td>NaN</td>\n",
       "      <td>NaN</td>\n",
       "      <td>NaN</td>\n",
       "      <td>NaN</td>\n",
       "      <td>NaN</td>\n",
       "      <td>...</td>\n",
       "      <td>NaN</td>\n",
       "      <td>NaN</td>\n",
       "      <td>NaN</td>\n",
       "      <td>NaN</td>\n",
       "      <td>NaN</td>\n",
       "      <td>NaN</td>\n",
       "      <td>NaN</td>\n",
       "      <td>NaN</td>\n",
       "      <td>NaN</td>\n",
       "      <td>2.0</td>\n",
       "    </tr>\n",
       "    <tr>\n",
       "      <th>10 Things I Hate About You (1999)</th>\n",
       "      <td>NaN</td>\n",
       "      <td>NaN</td>\n",
       "      <td>NaN</td>\n",
       "      <td>NaN</td>\n",
       "      <td>NaN</td>\n",
       "      <td>5.0</td>\n",
       "      <td>NaN</td>\n",
       "      <td>NaN</td>\n",
       "      <td>NaN</td>\n",
       "      <td>5.0</td>\n",
       "      <td>...</td>\n",
       "      <td>2.5</td>\n",
       "      <td>NaN</td>\n",
       "      <td>NaN</td>\n",
       "      <td>NaN</td>\n",
       "      <td>NaN</td>\n",
       "      <td>NaN</td>\n",
       "      <td>NaN</td>\n",
       "      <td>4.0</td>\n",
       "      <td>NaN</td>\n",
       "      <td>2.0</td>\n",
       "    </tr>\n",
       "    <tr>\n",
       "      <th>101 Dalmatians (1996)</th>\n",
       "      <td>NaN</td>\n",
       "      <td>NaN</td>\n",
       "      <td>NaN</td>\n",
       "      <td>NaN</td>\n",
       "      <td>NaN</td>\n",
       "      <td>NaN</td>\n",
       "      <td>NaN</td>\n",
       "      <td>NaN</td>\n",
       "      <td>NaN</td>\n",
       "      <td>NaN</td>\n",
       "      <td>...</td>\n",
       "      <td>NaN</td>\n",
       "      <td>NaN</td>\n",
       "      <td>NaN</td>\n",
       "      <td>NaN</td>\n",
       "      <td>NaN</td>\n",
       "      <td>NaN</td>\n",
       "      <td>NaN</td>\n",
       "      <td>NaN</td>\n",
       "      <td>NaN</td>\n",
       "      <td>2.0</td>\n",
       "    </tr>\n",
       "    <tr>\n",
       "      <th>101 Dalmatians (One Hundred and One Dalmatians) (1961)</th>\n",
       "      <td>NaN</td>\n",
       "      <td>NaN</td>\n",
       "      <td>NaN</td>\n",
       "      <td>NaN</td>\n",
       "      <td>NaN</td>\n",
       "      <td>NaN</td>\n",
       "      <td>NaN</td>\n",
       "      <td>NaN</td>\n",
       "      <td>NaN</td>\n",
       "      <td>NaN</td>\n",
       "      <td>...</td>\n",
       "      <td>NaN</td>\n",
       "      <td>NaN</td>\n",
       "      <td>NaN</td>\n",
       "      <td>NaN</td>\n",
       "      <td>NaN</td>\n",
       "      <td>NaN</td>\n",
       "      <td>NaN</td>\n",
       "      <td>NaN</td>\n",
       "      <td>NaN</td>\n",
       "      <td>2.0</td>\n",
       "    </tr>\n",
       "    <tr>\n",
       "      <th>12 Angry Men (1957)</th>\n",
       "      <td>NaN</td>\n",
       "      <td>NaN</td>\n",
       "      <td>NaN</td>\n",
       "      <td>5.0</td>\n",
       "      <td>NaN</td>\n",
       "      <td>NaN</td>\n",
       "      <td>NaN</td>\n",
       "      <td>NaN</td>\n",
       "      <td>NaN</td>\n",
       "      <td>NaN</td>\n",
       "      <td>...</td>\n",
       "      <td>4.5</td>\n",
       "      <td>NaN</td>\n",
       "      <td>NaN</td>\n",
       "      <td>NaN</td>\n",
       "      <td>NaN</td>\n",
       "      <td>NaN</td>\n",
       "      <td>NaN</td>\n",
       "      <td>5.0</td>\n",
       "      <td>NaN</td>\n",
       "      <td>4.5</td>\n",
       "    </tr>\n",
       "    <tr>\n",
       "      <th>...</th>\n",
       "      <td>...</td>\n",
       "      <td>...</td>\n",
       "      <td>...</td>\n",
       "      <td>...</td>\n",
       "      <td>...</td>\n",
       "      <td>...</td>\n",
       "      <td>...</td>\n",
       "      <td>...</td>\n",
       "      <td>...</td>\n",
       "      <td>...</td>\n",
       "      <td>...</td>\n",
       "      <td>...</td>\n",
       "      <td>...</td>\n",
       "      <td>...</td>\n",
       "      <td>...</td>\n",
       "      <td>...</td>\n",
       "      <td>...</td>\n",
       "      <td>...</td>\n",
       "      <td>...</td>\n",
       "      <td>...</td>\n",
       "      <td>...</td>\n",
       "    </tr>\n",
       "    <tr>\n",
       "      <th>Young Frankenstein (1974)</th>\n",
       "      <td>NaN</td>\n",
       "      <td>NaN</td>\n",
       "      <td>NaN</td>\n",
       "      <td>NaN</td>\n",
       "      <td>NaN</td>\n",
       "      <td>NaN</td>\n",
       "      <td>NaN</td>\n",
       "      <td>NaN</td>\n",
       "      <td>NaN</td>\n",
       "      <td>NaN</td>\n",
       "      <td>...</td>\n",
       "      <td>NaN</td>\n",
       "      <td>NaN</td>\n",
       "      <td>NaN</td>\n",
       "      <td>NaN</td>\n",
       "      <td>NaN</td>\n",
       "      <td>NaN</td>\n",
       "      <td>NaN</td>\n",
       "      <td>NaN</td>\n",
       "      <td>NaN</td>\n",
       "      <td>3.0</td>\n",
       "    </tr>\n",
       "    <tr>\n",
       "      <th>Young Guns (1988)</th>\n",
       "      <td>NaN</td>\n",
       "      <td>NaN</td>\n",
       "      <td>NaN</td>\n",
       "      <td>NaN</td>\n",
       "      <td>NaN</td>\n",
       "      <td>NaN</td>\n",
       "      <td>NaN</td>\n",
       "      <td>NaN</td>\n",
       "      <td>NaN</td>\n",
       "      <td>NaN</td>\n",
       "      <td>...</td>\n",
       "      <td>NaN</td>\n",
       "      <td>NaN</td>\n",
       "      <td>NaN</td>\n",
       "      <td>NaN</td>\n",
       "      <td>NaN</td>\n",
       "      <td>NaN</td>\n",
       "      <td>NaN</td>\n",
       "      <td>NaN</td>\n",
       "      <td>NaN</td>\n",
       "      <td>2.5</td>\n",
       "    </tr>\n",
       "    <tr>\n",
       "      <th>Zombieland (2009)</th>\n",
       "      <td>NaN</td>\n",
       "      <td>NaN</td>\n",
       "      <td>NaN</td>\n",
       "      <td>NaN</td>\n",
       "      <td>NaN</td>\n",
       "      <td>NaN</td>\n",
       "      <td>2.0</td>\n",
       "      <td>NaN</td>\n",
       "      <td>NaN</td>\n",
       "      <td>NaN</td>\n",
       "      <td>...</td>\n",
       "      <td>NaN</td>\n",
       "      <td>NaN</td>\n",
       "      <td>NaN</td>\n",
       "      <td>NaN</td>\n",
       "      <td>NaN</td>\n",
       "      <td>NaN</td>\n",
       "      <td>NaN</td>\n",
       "      <td>NaN</td>\n",
       "      <td>NaN</td>\n",
       "      <td>2.5</td>\n",
       "    </tr>\n",
       "    <tr>\n",
       "      <th>Zoolander (2001)</th>\n",
       "      <td>NaN</td>\n",
       "      <td>NaN</td>\n",
       "      <td>NaN</td>\n",
       "      <td>NaN</td>\n",
       "      <td>NaN</td>\n",
       "      <td>NaN</td>\n",
       "      <td>NaN</td>\n",
       "      <td>NaN</td>\n",
       "      <td>NaN</td>\n",
       "      <td>NaN</td>\n",
       "      <td>...</td>\n",
       "      <td>NaN</td>\n",
       "      <td>NaN</td>\n",
       "      <td>NaN</td>\n",
       "      <td>NaN</td>\n",
       "      <td>NaN</td>\n",
       "      <td>NaN</td>\n",
       "      <td>NaN</td>\n",
       "      <td>NaN</td>\n",
       "      <td>NaN</td>\n",
       "      <td>2.5</td>\n",
       "    </tr>\n",
       "    <tr>\n",
       "      <th>¡Three Amigos! (1986)</th>\n",
       "      <td>NaN</td>\n",
       "      <td>NaN</td>\n",
       "      <td>NaN</td>\n",
       "      <td>NaN</td>\n",
       "      <td>NaN</td>\n",
       "      <td>NaN</td>\n",
       "      <td>NaN</td>\n",
       "      <td>NaN</td>\n",
       "      <td>NaN</td>\n",
       "      <td>NaN</td>\n",
       "      <td>...</td>\n",
       "      <td>NaN</td>\n",
       "      <td>NaN</td>\n",
       "      <td>NaN</td>\n",
       "      <td>NaN</td>\n",
       "      <td>NaN</td>\n",
       "      <td>NaN</td>\n",
       "      <td>NaN</td>\n",
       "      <td>NaN</td>\n",
       "      <td>NaN</td>\n",
       "      <td>2.0</td>\n",
       "    </tr>\n",
       "  </tbody>\n",
       "</table>\n",
       "<p>888 rows × 668 columns</p>\n",
       "</div>"
      ],
      "text/plain": [
       "ID Usuario                                          1    2    3    4    5    \\\n",
       "Título                                                                        \n",
       "(500) Days of Summer (2009)                         NaN  NaN  NaN  NaN  NaN   \n",
       "10 Things I Hate About You (1999)                   NaN  NaN  NaN  NaN  NaN   \n",
       "101 Dalmatians (1996)                               NaN  NaN  NaN  NaN  NaN   \n",
       "101 Dalmatians (One Hundred and One Dalmatians)...  NaN  NaN  NaN  NaN  NaN   \n",
       "12 Angry Men (1957)                                 NaN  NaN  NaN  5.0  NaN   \n",
       "...                                                 ...  ...  ...  ...  ...   \n",
       "Young Frankenstein (1974)                           NaN  NaN  NaN  NaN  NaN   \n",
       "Young Guns (1988)                                   NaN  NaN  NaN  NaN  NaN   \n",
       "Zombieland (2009)                                   NaN  NaN  NaN  NaN  NaN   \n",
       "Zoolander (2001)                                    NaN  NaN  NaN  NaN  NaN   \n",
       "¡Three Amigos! (1986)                               NaN  NaN  NaN  NaN  NaN   \n",
       "\n",
       "ID Usuario                                          6    7    8    9    10   \\\n",
       "Título                                                                        \n",
       "(500) Days of Summer (2009)                         NaN  NaN  NaN  NaN  NaN   \n",
       "10 Things I Hate About You (1999)                   5.0  NaN  NaN  NaN  5.0   \n",
       "101 Dalmatians (1996)                               NaN  NaN  NaN  NaN  NaN   \n",
       "101 Dalmatians (One Hundred and One Dalmatians)...  NaN  NaN  NaN  NaN  NaN   \n",
       "12 Angry Men (1957)                                 NaN  NaN  NaN  NaN  NaN   \n",
       "...                                                 ...  ...  ...  ...  ...   \n",
       "Young Frankenstein (1974)                           NaN  NaN  NaN  NaN  NaN   \n",
       "Young Guns (1988)                                   NaN  NaN  NaN  NaN  NaN   \n",
       "Zombieland (2009)                                   NaN  2.0  NaN  NaN  NaN   \n",
       "Zoolander (2001)                                    NaN  NaN  NaN  NaN  NaN   \n",
       "¡Three Amigos! (1986)                               NaN  NaN  NaN  NaN  NaN   \n",
       "\n",
       "ID Usuario                                          ...  659  660  661  662  \\\n",
       "Título                                              ...                       \n",
       "(500) Days of Summer (2009)                         ...  NaN  NaN  NaN  NaN   \n",
       "10 Things I Hate About You (1999)                   ...  2.5  NaN  NaN  NaN   \n",
       "101 Dalmatians (1996)                               ...  NaN  NaN  NaN  NaN   \n",
       "101 Dalmatians (One Hundred and One Dalmatians)...  ...  NaN  NaN  NaN  NaN   \n",
       "12 Angry Men (1957)                                 ...  4.5  NaN  NaN  NaN   \n",
       "...                                                 ...  ...  ...  ...  ...   \n",
       "Young Frankenstein (1974)                           ...  NaN  NaN  NaN  NaN   \n",
       "Young Guns (1988)                                   ...  NaN  NaN  NaN  NaN   \n",
       "Zombieland (2009)                                   ...  NaN  NaN  NaN  NaN   \n",
       "Zoolander (2001)                                    ...  NaN  NaN  NaN  NaN   \n",
       "¡Three Amigos! (1986)                               ...  NaN  NaN  NaN  NaN   \n",
       "\n",
       "ID Usuario                                          663  664  665  666  667  \\\n",
       "Título                                                                        \n",
       "(500) Days of Summer (2009)                         NaN  NaN  NaN  NaN  NaN   \n",
       "10 Things I Hate About You (1999)                   NaN  NaN  NaN  4.0  NaN   \n",
       "101 Dalmatians (1996)                               NaN  NaN  NaN  NaN  NaN   \n",
       "101 Dalmatians (One Hundred and One Dalmatians)...  NaN  NaN  NaN  NaN  NaN   \n",
       "12 Angry Men (1957)                                 NaN  NaN  NaN  5.0  NaN   \n",
       "...                                                 ...  ...  ...  ...  ...   \n",
       "Young Frankenstein (1974)                           NaN  NaN  NaN  NaN  NaN   \n",
       "Young Guns (1988)                                   NaN  NaN  NaN  NaN  NaN   \n",
       "Zombieland (2009)                                   NaN  NaN  NaN  NaN  NaN   \n",
       "Zoolander (2001)                                    NaN  NaN  NaN  NaN  NaN   \n",
       "¡Three Amigos! (1986)                               NaN  NaN  NaN  NaN  NaN   \n",
       "\n",
       "ID Usuario                                          668  \n",
       "Título                                                   \n",
       "(500) Days of Summer (2009)                         2.0  \n",
       "10 Things I Hate About You (1999)                   2.0  \n",
       "101 Dalmatians (1996)                               2.0  \n",
       "101 Dalmatians (One Hundred and One Dalmatians)...  2.0  \n",
       "12 Angry Men (1957)                                 4.5  \n",
       "...                                                 ...  \n",
       "Young Frankenstein (1974)                           3.0  \n",
       "Young Guns (1988)                                   2.5  \n",
       "Zombieland (2009)                                   2.5  \n",
       "Zoolander (2001)                                    2.5  \n",
       "¡Three Amigos! (1986)                               2.0  \n",
       "\n",
       "[888 rows x 668 columns]"
      ]
     },
     "execution_count": 47,
     "metadata": {},
     "output_type": "execute_result"
    }
   ],
   "source": [
    "peliculas_Tabla_Pivot"
   ]
  },
  {
   "cell_type": "code",
   "execution_count": 49,
   "id": "335d033a-65f0-4111-a497-51b00835565a",
   "metadata": {},
   "outputs": [],
   "source": [
    "peliculas_Tabla_Pivot.fillna(0, inplace = True)"
   ]
  },
  {
   "cell_type": "code",
   "execution_count": 50,
   "id": "0e716489-a1b3-441e-ba05-42f146f4c38d",
   "metadata": {},
   "outputs": [
    {
     "data": {
      "text/html": [
       "<div>\n",
       "<style scoped>\n",
       "    .dataframe tbody tr th:only-of-type {\n",
       "        vertical-align: middle;\n",
       "    }\n",
       "\n",
       "    .dataframe tbody tr th {\n",
       "        vertical-align: top;\n",
       "    }\n",
       "\n",
       "    .dataframe thead th {\n",
       "        text-align: right;\n",
       "    }\n",
       "</style>\n",
       "<table border=\"1\" class=\"dataframe\">\n",
       "  <thead>\n",
       "    <tr style=\"text-align: right;\">\n",
       "      <th>ID Usuario</th>\n",
       "      <th>1</th>\n",
       "      <th>2</th>\n",
       "      <th>3</th>\n",
       "      <th>4</th>\n",
       "      <th>5</th>\n",
       "      <th>6</th>\n",
       "      <th>7</th>\n",
       "      <th>8</th>\n",
       "      <th>9</th>\n",
       "      <th>10</th>\n",
       "      <th>...</th>\n",
       "      <th>659</th>\n",
       "      <th>660</th>\n",
       "      <th>661</th>\n",
       "      <th>662</th>\n",
       "      <th>663</th>\n",
       "      <th>664</th>\n",
       "      <th>665</th>\n",
       "      <th>666</th>\n",
       "      <th>667</th>\n",
       "      <th>668</th>\n",
       "    </tr>\n",
       "    <tr>\n",
       "      <th>Título</th>\n",
       "      <th></th>\n",
       "      <th></th>\n",
       "      <th></th>\n",
       "      <th></th>\n",
       "      <th></th>\n",
       "      <th></th>\n",
       "      <th></th>\n",
       "      <th></th>\n",
       "      <th></th>\n",
       "      <th></th>\n",
       "      <th></th>\n",
       "      <th></th>\n",
       "      <th></th>\n",
       "      <th></th>\n",
       "      <th></th>\n",
       "      <th></th>\n",
       "      <th></th>\n",
       "      <th></th>\n",
       "      <th></th>\n",
       "      <th></th>\n",
       "      <th></th>\n",
       "    </tr>\n",
       "  </thead>\n",
       "  <tbody>\n",
       "    <tr>\n",
       "      <th>(500) Days of Summer (2009)</th>\n",
       "      <td>0.0</td>\n",
       "      <td>0.0</td>\n",
       "      <td>0.0</td>\n",
       "      <td>0.0</td>\n",
       "      <td>0.0</td>\n",
       "      <td>0.0</td>\n",
       "      <td>0.0</td>\n",
       "      <td>0.0</td>\n",
       "      <td>0.0</td>\n",
       "      <td>0.0</td>\n",
       "      <td>...</td>\n",
       "      <td>0.0</td>\n",
       "      <td>0.0</td>\n",
       "      <td>0.0</td>\n",
       "      <td>0.0</td>\n",
       "      <td>0.0</td>\n",
       "      <td>0.0</td>\n",
       "      <td>0.0</td>\n",
       "      <td>0.0</td>\n",
       "      <td>0.0</td>\n",
       "      <td>2.0</td>\n",
       "    </tr>\n",
       "    <tr>\n",
       "      <th>10 Things I Hate About You (1999)</th>\n",
       "      <td>0.0</td>\n",
       "      <td>0.0</td>\n",
       "      <td>0.0</td>\n",
       "      <td>0.0</td>\n",
       "      <td>0.0</td>\n",
       "      <td>5.0</td>\n",
       "      <td>0.0</td>\n",
       "      <td>0.0</td>\n",
       "      <td>0.0</td>\n",
       "      <td>5.0</td>\n",
       "      <td>...</td>\n",
       "      <td>2.5</td>\n",
       "      <td>0.0</td>\n",
       "      <td>0.0</td>\n",
       "      <td>0.0</td>\n",
       "      <td>0.0</td>\n",
       "      <td>0.0</td>\n",
       "      <td>0.0</td>\n",
       "      <td>4.0</td>\n",
       "      <td>0.0</td>\n",
       "      <td>2.0</td>\n",
       "    </tr>\n",
       "    <tr>\n",
       "      <th>101 Dalmatians (1996)</th>\n",
       "      <td>0.0</td>\n",
       "      <td>0.0</td>\n",
       "      <td>0.0</td>\n",
       "      <td>0.0</td>\n",
       "      <td>0.0</td>\n",
       "      <td>0.0</td>\n",
       "      <td>0.0</td>\n",
       "      <td>0.0</td>\n",
       "      <td>0.0</td>\n",
       "      <td>0.0</td>\n",
       "      <td>...</td>\n",
       "      <td>0.0</td>\n",
       "      <td>0.0</td>\n",
       "      <td>0.0</td>\n",
       "      <td>0.0</td>\n",
       "      <td>0.0</td>\n",
       "      <td>0.0</td>\n",
       "      <td>0.0</td>\n",
       "      <td>0.0</td>\n",
       "      <td>0.0</td>\n",
       "      <td>2.0</td>\n",
       "    </tr>\n",
       "    <tr>\n",
       "      <th>101 Dalmatians (One Hundred and One Dalmatians) (1961)</th>\n",
       "      <td>0.0</td>\n",
       "      <td>0.0</td>\n",
       "      <td>0.0</td>\n",
       "      <td>0.0</td>\n",
       "      <td>0.0</td>\n",
       "      <td>0.0</td>\n",
       "      <td>0.0</td>\n",
       "      <td>0.0</td>\n",
       "      <td>0.0</td>\n",
       "      <td>0.0</td>\n",
       "      <td>...</td>\n",
       "      <td>0.0</td>\n",
       "      <td>0.0</td>\n",
       "      <td>0.0</td>\n",
       "      <td>0.0</td>\n",
       "      <td>0.0</td>\n",
       "      <td>0.0</td>\n",
       "      <td>0.0</td>\n",
       "      <td>0.0</td>\n",
       "      <td>0.0</td>\n",
       "      <td>2.0</td>\n",
       "    </tr>\n",
       "    <tr>\n",
       "      <th>12 Angry Men (1957)</th>\n",
       "      <td>0.0</td>\n",
       "      <td>0.0</td>\n",
       "      <td>0.0</td>\n",
       "      <td>5.0</td>\n",
       "      <td>0.0</td>\n",
       "      <td>0.0</td>\n",
       "      <td>0.0</td>\n",
       "      <td>0.0</td>\n",
       "      <td>0.0</td>\n",
       "      <td>0.0</td>\n",
       "      <td>...</td>\n",
       "      <td>4.5</td>\n",
       "      <td>0.0</td>\n",
       "      <td>0.0</td>\n",
       "      <td>0.0</td>\n",
       "      <td>0.0</td>\n",
       "      <td>0.0</td>\n",
       "      <td>0.0</td>\n",
       "      <td>5.0</td>\n",
       "      <td>0.0</td>\n",
       "      <td>4.5</td>\n",
       "    </tr>\n",
       "    <tr>\n",
       "      <th>...</th>\n",
       "      <td>...</td>\n",
       "      <td>...</td>\n",
       "      <td>...</td>\n",
       "      <td>...</td>\n",
       "      <td>...</td>\n",
       "      <td>...</td>\n",
       "      <td>...</td>\n",
       "      <td>...</td>\n",
       "      <td>...</td>\n",
       "      <td>...</td>\n",
       "      <td>...</td>\n",
       "      <td>...</td>\n",
       "      <td>...</td>\n",
       "      <td>...</td>\n",
       "      <td>...</td>\n",
       "      <td>...</td>\n",
       "      <td>...</td>\n",
       "      <td>...</td>\n",
       "      <td>...</td>\n",
       "      <td>...</td>\n",
       "      <td>...</td>\n",
       "    </tr>\n",
       "    <tr>\n",
       "      <th>Young Frankenstein (1974)</th>\n",
       "      <td>0.0</td>\n",
       "      <td>0.0</td>\n",
       "      <td>0.0</td>\n",
       "      <td>0.0</td>\n",
       "      <td>0.0</td>\n",
       "      <td>0.0</td>\n",
       "      <td>0.0</td>\n",
       "      <td>0.0</td>\n",
       "      <td>0.0</td>\n",
       "      <td>0.0</td>\n",
       "      <td>...</td>\n",
       "      <td>0.0</td>\n",
       "      <td>0.0</td>\n",
       "      <td>0.0</td>\n",
       "      <td>0.0</td>\n",
       "      <td>0.0</td>\n",
       "      <td>0.0</td>\n",
       "      <td>0.0</td>\n",
       "      <td>0.0</td>\n",
       "      <td>0.0</td>\n",
       "      <td>3.0</td>\n",
       "    </tr>\n",
       "    <tr>\n",
       "      <th>Young Guns (1988)</th>\n",
       "      <td>0.0</td>\n",
       "      <td>0.0</td>\n",
       "      <td>0.0</td>\n",
       "      <td>0.0</td>\n",
       "      <td>0.0</td>\n",
       "      <td>0.0</td>\n",
       "      <td>0.0</td>\n",
       "      <td>0.0</td>\n",
       "      <td>0.0</td>\n",
       "      <td>0.0</td>\n",
       "      <td>...</td>\n",
       "      <td>0.0</td>\n",
       "      <td>0.0</td>\n",
       "      <td>0.0</td>\n",
       "      <td>0.0</td>\n",
       "      <td>0.0</td>\n",
       "      <td>0.0</td>\n",
       "      <td>0.0</td>\n",
       "      <td>0.0</td>\n",
       "      <td>0.0</td>\n",
       "      <td>2.5</td>\n",
       "    </tr>\n",
       "    <tr>\n",
       "      <th>Zombieland (2009)</th>\n",
       "      <td>0.0</td>\n",
       "      <td>0.0</td>\n",
       "      <td>0.0</td>\n",
       "      <td>0.0</td>\n",
       "      <td>0.0</td>\n",
       "      <td>0.0</td>\n",
       "      <td>2.0</td>\n",
       "      <td>0.0</td>\n",
       "      <td>0.0</td>\n",
       "      <td>0.0</td>\n",
       "      <td>...</td>\n",
       "      <td>0.0</td>\n",
       "      <td>0.0</td>\n",
       "      <td>0.0</td>\n",
       "      <td>0.0</td>\n",
       "      <td>0.0</td>\n",
       "      <td>0.0</td>\n",
       "      <td>0.0</td>\n",
       "      <td>0.0</td>\n",
       "      <td>0.0</td>\n",
       "      <td>2.5</td>\n",
       "    </tr>\n",
       "    <tr>\n",
       "      <th>Zoolander (2001)</th>\n",
       "      <td>0.0</td>\n",
       "      <td>0.0</td>\n",
       "      <td>0.0</td>\n",
       "      <td>0.0</td>\n",
       "      <td>0.0</td>\n",
       "      <td>0.0</td>\n",
       "      <td>0.0</td>\n",
       "      <td>0.0</td>\n",
       "      <td>0.0</td>\n",
       "      <td>0.0</td>\n",
       "      <td>...</td>\n",
       "      <td>0.0</td>\n",
       "      <td>0.0</td>\n",
       "      <td>0.0</td>\n",
       "      <td>0.0</td>\n",
       "      <td>0.0</td>\n",
       "      <td>0.0</td>\n",
       "      <td>0.0</td>\n",
       "      <td>0.0</td>\n",
       "      <td>0.0</td>\n",
       "      <td>2.5</td>\n",
       "    </tr>\n",
       "    <tr>\n",
       "      <th>¡Three Amigos! (1986)</th>\n",
       "      <td>0.0</td>\n",
       "      <td>0.0</td>\n",
       "      <td>0.0</td>\n",
       "      <td>0.0</td>\n",
       "      <td>0.0</td>\n",
       "      <td>0.0</td>\n",
       "      <td>0.0</td>\n",
       "      <td>0.0</td>\n",
       "      <td>0.0</td>\n",
       "      <td>0.0</td>\n",
       "      <td>...</td>\n",
       "      <td>0.0</td>\n",
       "      <td>0.0</td>\n",
       "      <td>0.0</td>\n",
       "      <td>0.0</td>\n",
       "      <td>0.0</td>\n",
       "      <td>0.0</td>\n",
       "      <td>0.0</td>\n",
       "      <td>0.0</td>\n",
       "      <td>0.0</td>\n",
       "      <td>2.0</td>\n",
       "    </tr>\n",
       "  </tbody>\n",
       "</table>\n",
       "<p>888 rows × 668 columns</p>\n",
       "</div>"
      ],
      "text/plain": [
       "ID Usuario                                          1    2    3    4    5    \\\n",
       "Título                                                                        \n",
       "(500) Days of Summer (2009)                         0.0  0.0  0.0  0.0  0.0   \n",
       "10 Things I Hate About You (1999)                   0.0  0.0  0.0  0.0  0.0   \n",
       "101 Dalmatians (1996)                               0.0  0.0  0.0  0.0  0.0   \n",
       "101 Dalmatians (One Hundred and One Dalmatians)...  0.0  0.0  0.0  0.0  0.0   \n",
       "12 Angry Men (1957)                                 0.0  0.0  0.0  5.0  0.0   \n",
       "...                                                 ...  ...  ...  ...  ...   \n",
       "Young Frankenstein (1974)                           0.0  0.0  0.0  0.0  0.0   \n",
       "Young Guns (1988)                                   0.0  0.0  0.0  0.0  0.0   \n",
       "Zombieland (2009)                                   0.0  0.0  0.0  0.0  0.0   \n",
       "Zoolander (2001)                                    0.0  0.0  0.0  0.0  0.0   \n",
       "¡Three Amigos! (1986)                               0.0  0.0  0.0  0.0  0.0   \n",
       "\n",
       "ID Usuario                                          6    7    8    9    10   \\\n",
       "Título                                                                        \n",
       "(500) Days of Summer (2009)                         0.0  0.0  0.0  0.0  0.0   \n",
       "10 Things I Hate About You (1999)                   5.0  0.0  0.0  0.0  5.0   \n",
       "101 Dalmatians (1996)                               0.0  0.0  0.0  0.0  0.0   \n",
       "101 Dalmatians (One Hundred and One Dalmatians)...  0.0  0.0  0.0  0.0  0.0   \n",
       "12 Angry Men (1957)                                 0.0  0.0  0.0  0.0  0.0   \n",
       "...                                                 ...  ...  ...  ...  ...   \n",
       "Young Frankenstein (1974)                           0.0  0.0  0.0  0.0  0.0   \n",
       "Young Guns (1988)                                   0.0  0.0  0.0  0.0  0.0   \n",
       "Zombieland (2009)                                   0.0  2.0  0.0  0.0  0.0   \n",
       "Zoolander (2001)                                    0.0  0.0  0.0  0.0  0.0   \n",
       "¡Three Amigos! (1986)                               0.0  0.0  0.0  0.0  0.0   \n",
       "\n",
       "ID Usuario                                          ...  659  660  661  662  \\\n",
       "Título                                              ...                       \n",
       "(500) Days of Summer (2009)                         ...  0.0  0.0  0.0  0.0   \n",
       "10 Things I Hate About You (1999)                   ...  2.5  0.0  0.0  0.0   \n",
       "101 Dalmatians (1996)                               ...  0.0  0.0  0.0  0.0   \n",
       "101 Dalmatians (One Hundred and One Dalmatians)...  ...  0.0  0.0  0.0  0.0   \n",
       "12 Angry Men (1957)                                 ...  4.5  0.0  0.0  0.0   \n",
       "...                                                 ...  ...  ...  ...  ...   \n",
       "Young Frankenstein (1974)                           ...  0.0  0.0  0.0  0.0   \n",
       "Young Guns (1988)                                   ...  0.0  0.0  0.0  0.0   \n",
       "Zombieland (2009)                                   ...  0.0  0.0  0.0  0.0   \n",
       "Zoolander (2001)                                    ...  0.0  0.0  0.0  0.0   \n",
       "¡Three Amigos! (1986)                               ...  0.0  0.0  0.0  0.0   \n",
       "\n",
       "ID Usuario                                          663  664  665  666  667  \\\n",
       "Título                                                                        \n",
       "(500) Days of Summer (2009)                         0.0  0.0  0.0  0.0  0.0   \n",
       "10 Things I Hate About You (1999)                   0.0  0.0  0.0  4.0  0.0   \n",
       "101 Dalmatians (1996)                               0.0  0.0  0.0  0.0  0.0   \n",
       "101 Dalmatians (One Hundred and One Dalmatians)...  0.0  0.0  0.0  0.0  0.0   \n",
       "12 Angry Men (1957)                                 0.0  0.0  0.0  5.0  0.0   \n",
       "...                                                 ...  ...  ...  ...  ...   \n",
       "Young Frankenstein (1974)                           0.0  0.0  0.0  0.0  0.0   \n",
       "Young Guns (1988)                                   0.0  0.0  0.0  0.0  0.0   \n",
       "Zombieland (2009)                                   0.0  0.0  0.0  0.0  0.0   \n",
       "Zoolander (2001)                                    0.0  0.0  0.0  0.0  0.0   \n",
       "¡Three Amigos! (1986)                               0.0  0.0  0.0  0.0  0.0   \n",
       "\n",
       "ID Usuario                                          668  \n",
       "Título                                                   \n",
       "(500) Days of Summer (2009)                         2.0  \n",
       "10 Things I Hate About You (1999)                   2.0  \n",
       "101 Dalmatians (1996)                               2.0  \n",
       "101 Dalmatians (One Hundred and One Dalmatians)...  2.0  \n",
       "12 Angry Men (1957)                                 4.5  \n",
       "...                                                 ...  \n",
       "Young Frankenstein (1974)                           3.0  \n",
       "Young Guns (1988)                                   2.5  \n",
       "Zombieland (2009)                                   2.5  \n",
       "Zoolander (2001)                                    2.5  \n",
       "¡Three Amigos! (1986)                               2.0  \n",
       "\n",
       "[888 rows x 668 columns]"
      ]
     },
     "execution_count": 50,
     "metadata": {},
     "output_type": "execute_result"
    }
   ],
   "source": [
    "peliculas_Tabla_Pivot"
   ]
  },
  {
   "cell_type": "code",
   "execution_count": 53,
   "id": "6e0c7b20-3b20-4f36-8d1e-6699c28bcae9",
   "metadata": {},
   "outputs": [],
   "source": [
    "from scipy.sparse import csr_matrix"
   ]
  },
  {
   "cell_type": "code",
   "execution_count": 54,
   "id": "dca8fe62-34de-4aef-80f4-45c64b685425",
   "metadata": {},
   "outputs": [],
   "source": [
    "pelicula_sparce = csr_matrix(peliculas_Tabla_Pivot)"
   ]
  },
  {
   "cell_type": "code",
   "execution_count": 55,
   "id": "a4620782-ceed-431e-a23b-39baf8c4c64b",
   "metadata": {},
   "outputs": [
    {
     "data": {
      "text/plain": [
       "<888x668 sparse matrix of type '<class 'numpy.float64'>'\n",
       "\twith 60175 stored elements in Compressed Sparse Row format>"
      ]
     },
     "execution_count": 55,
     "metadata": {},
     "output_type": "execute_result"
    }
   ],
   "source": [
    "pelicula_sparce"
   ]
  },
  {
   "cell_type": "code",
   "execution_count": 60,
   "id": "e128a1d1-0c05-4fec-990c-45e80a7512be",
   "metadata": {},
   "outputs": [],
   "source": [
    "from sklearn.neighbors import NearestNeighbors\n",
    "model = NearestNeighbors(algorithm = 'brute')"
   ]
  },
  {
   "cell_type": "code",
   "execution_count": 61,
   "id": "be06426f-a80a-4a45-a01d-2c5297e88a52",
   "metadata": {},
   "outputs": [
    {
     "data": {
      "text/html": [
       "<style>#sk-container-id-1 {color: black;}#sk-container-id-1 pre{padding: 0;}#sk-container-id-1 div.sk-toggleable {background-color: white;}#sk-container-id-1 label.sk-toggleable__label {cursor: pointer;display: block;width: 100%;margin-bottom: 0;padding: 0.3em;box-sizing: border-box;text-align: center;}#sk-container-id-1 label.sk-toggleable__label-arrow:before {content: \"▸\";float: left;margin-right: 0.25em;color: #696969;}#sk-container-id-1 label.sk-toggleable__label-arrow:hover:before {color: black;}#sk-container-id-1 div.sk-estimator:hover label.sk-toggleable__label-arrow:before {color: black;}#sk-container-id-1 div.sk-toggleable__content {max-height: 0;max-width: 0;overflow: hidden;text-align: left;background-color: #f0f8ff;}#sk-container-id-1 div.sk-toggleable__content pre {margin: 0.2em;color: black;border-radius: 0.25em;background-color: #f0f8ff;}#sk-container-id-1 input.sk-toggleable__control:checked~div.sk-toggleable__content {max-height: 200px;max-width: 100%;overflow: auto;}#sk-container-id-1 input.sk-toggleable__control:checked~label.sk-toggleable__label-arrow:before {content: \"▾\";}#sk-container-id-1 div.sk-estimator input.sk-toggleable__control:checked~label.sk-toggleable__label {background-color: #d4ebff;}#sk-container-id-1 div.sk-label input.sk-toggleable__control:checked~label.sk-toggleable__label {background-color: #d4ebff;}#sk-container-id-1 input.sk-hidden--visually {border: 0;clip: rect(1px 1px 1px 1px);clip: rect(1px, 1px, 1px, 1px);height: 1px;margin: -1px;overflow: hidden;padding: 0;position: absolute;width: 1px;}#sk-container-id-1 div.sk-estimator {font-family: monospace;background-color: #f0f8ff;border: 1px dotted black;border-radius: 0.25em;box-sizing: border-box;margin-bottom: 0.5em;}#sk-container-id-1 div.sk-estimator:hover {background-color: #d4ebff;}#sk-container-id-1 div.sk-parallel-item::after {content: \"\";width: 100%;border-bottom: 1px solid gray;flex-grow: 1;}#sk-container-id-1 div.sk-label:hover label.sk-toggleable__label {background-color: #d4ebff;}#sk-container-id-1 div.sk-serial::before {content: \"\";position: absolute;border-left: 1px solid gray;box-sizing: border-box;top: 0;bottom: 0;left: 50%;z-index: 0;}#sk-container-id-1 div.sk-serial {display: flex;flex-direction: column;align-items: center;background-color: white;padding-right: 0.2em;padding-left: 0.2em;position: relative;}#sk-container-id-1 div.sk-item {position: relative;z-index: 1;}#sk-container-id-1 div.sk-parallel {display: flex;align-items: stretch;justify-content: center;background-color: white;position: relative;}#sk-container-id-1 div.sk-item::before, #sk-container-id-1 div.sk-parallel-item::before {content: \"\";position: absolute;border-left: 1px solid gray;box-sizing: border-box;top: 0;bottom: 0;left: 50%;z-index: -1;}#sk-container-id-1 div.sk-parallel-item {display: flex;flex-direction: column;z-index: 1;position: relative;background-color: white;}#sk-container-id-1 div.sk-parallel-item:first-child::after {align-self: flex-end;width: 50%;}#sk-container-id-1 div.sk-parallel-item:last-child::after {align-self: flex-start;width: 50%;}#sk-container-id-1 div.sk-parallel-item:only-child::after {width: 0;}#sk-container-id-1 div.sk-dashed-wrapped {border: 1px dashed gray;margin: 0 0.4em 0.5em 0.4em;box-sizing: border-box;padding-bottom: 0.4em;background-color: white;}#sk-container-id-1 div.sk-label label {font-family: monospace;font-weight: bold;display: inline-block;line-height: 1.2em;}#sk-container-id-1 div.sk-label-container {text-align: center;}#sk-container-id-1 div.sk-container {/* jupyter's `normalize.less` sets `[hidden] { display: none; }` but bootstrap.min.css set `[hidden] { display: none !important; }` so we also need the `!important` here to be able to override the default hidden behavior on the sphinx rendered scikit-learn.org. See: https://github.com/scikit-learn/scikit-learn/issues/21755 */display: inline-block !important;position: relative;}#sk-container-id-1 div.sk-text-repr-fallback {display: none;}</style><div id=\"sk-container-id-1\" class=\"sk-top-container\"><div class=\"sk-text-repr-fallback\"><pre>NearestNeighbors(algorithm=&#x27;brute&#x27;)</pre><b>In a Jupyter environment, please rerun this cell to show the HTML representation or trust the notebook. <br />On GitHub, the HTML representation is unable to render, please try loading this page with nbviewer.org.</b></div><div class=\"sk-container\" hidden><div class=\"sk-item\"><div class=\"sk-estimator sk-toggleable\"><input class=\"sk-toggleable__control sk-hidden--visually\" id=\"sk-estimator-id-1\" type=\"checkbox\" checked><label for=\"sk-estimator-id-1\" class=\"sk-toggleable__label sk-toggleable__label-arrow\">NearestNeighbors</label><div class=\"sk-toggleable__content\"><pre>NearestNeighbors(algorithm=&#x27;brute&#x27;)</pre></div></div></div></div></div>"
      ],
      "text/plain": [
       "NearestNeighbors(algorithm='brute')"
      ]
     },
     "execution_count": 61,
     "metadata": {},
     "output_type": "execute_result"
    }
   ],
   "source": [
    "model.fit(pelicula_sparce)"
   ]
  },
  {
   "cell_type": "code",
   "execution_count": 66,
   "id": "11864dc2-0beb-409f-9126-7ec40e983bc6",
   "metadata": {},
   "outputs": [],
   "source": [
    "#se selecciona la muestra, se encuentran los vecinos más cerca, almacena los resultados\n",
    "distancia, sugerencia = model.kneighbors(peliculas_Tabla_Pivot.iloc[101,:].values.reshape(1,-1), n_neighbors=5)"
   ]
  },
  {
   "cell_type": "code",
   "execution_count": 67,
   "id": "3409df1d-f74b-49f7-ad25-c3293fb09f23",
   "metadata": {},
   "outputs": [
    {
     "data": {
      "text/plain": [
       "array([[ 0.        , 23.61143791, 26.2202212 , 26.2297541 , 26.27260931]])"
      ]
     },
     "execution_count": 67,
     "metadata": {},
     "output_type": "execute_result"
    }
   ],
   "source": [
    "distancia"
   ]
  },
  {
   "cell_type": "code",
   "execution_count": 68,
   "id": "3ebfb9fa-a7a8-4e28-998e-87b52cc76949",
   "metadata": {},
   "outputs": [
    {
     "data": {
      "text/plain": [
       "array([[101, 102, 224, 443, 340]], dtype=int64)"
      ]
     },
     "execution_count": 68,
     "metadata": {},
     "output_type": "execute_result"
    }
   ],
   "source": [
    "sugerencia"
   ]
  },
  {
   "cell_type": "code",
   "execution_count": 69,
   "id": "e9722140-4ac0-464d-9b01-dd7666b65ba7",
   "metadata": {},
   "outputs": [
    {
     "name": "stdout",
     "output_type": "stream",
     "text": [
      "Index(['Blade (1998)', 'Blade II (2002)', 'Dick Tracy (1990)',\n",
      "       'Jurassic Park III (2001)', 'Godzilla (1998)'],\n",
      "      dtype='object', name='Título')\n"
     ]
    }
   ],
   "source": [
    "#Para leer las sugerencias, con el ciclo porque son más de un sugerencia\n",
    "for i in range(len(sugerencia)):\n",
    "    print(peliculas_Tabla_Pivot.index[sugerencia[i]])"
   ]
  },
  {
   "cell_type": "code",
   "execution_count": 73,
   "id": "07c553df-6958-4511-bb4a-132d661202bd",
   "metadata": {},
   "outputs": [
    {
     "data": {
      "text/plain": [
       "'Blade (1998)'"
      ]
     },
     "execution_count": 73,
     "metadata": {},
     "output_type": "execute_result"
    }
   ],
   "source": [
    "#Linea para conocer el titulo de un indice de la tabla pivot\n",
    "peliculas_Tabla_Pivot.index[101]"
   ]
  },
  {
   "cell_type": "code",
   "execution_count": 74,
   "id": "279f0e47-4180-4642-a4c0-4d011d51b789",
   "metadata": {},
   "outputs": [],
   "source": [
    "#Almaceno los nombres de pelis de la tabla pivot \n",
    "peliculas_Nombre = peliculas_Tabla_Pivot.index"
   ]
  },
  {
   "cell_type": "code",
   "execution_count": 76,
   "id": "71fb1736-16b3-41ad-8514-3637affd7b9c",
   "metadata": {},
   "outputs": [],
   "source": [
    "import pickle\n",
    "pickle.dump(model, open('activos/model.pkl', 'wb'))\n",
    "pickle.dump(peliculas_Nombre, open('activos/peliculas_Nombre.pkl', 'wb'))\n",
    "pickle.dump(clasificaciones_Finales, open('activos/clasificaciones_Finales.pkl', 'wb'))\n",
    "pickle.dump(peliculas_Tabla_Pivot, open('activos/peliculas_Tabla_Pivot.pkl', 'wb'))"
   ]
  },
  {
   "cell_type": "code",
   "execution_count": 78,
   "id": "ec38ab6f-1ee2-40fb-8e82-731f9974f14c",
   "metadata": {},
   "outputs": [],
   "source": [
    "#Función para recomendar pelicula de acuerdo al número de indice del nombre dado como parámetro\n",
    "def recomendar_Pelicula(nombre_Pelicula):\n",
    "    pelicula_id = np.where(peliculas_Tabla_Pivot.index == nombre_Pelicula)[0][0]\n",
    "    distancia, sugerencia = model.kneighbors(peliculas_Tabla_Pivot.iloc[pelicula_id,:].values.reshape(1,-1), n_neighbors=5)\n",
    "\n",
    "    for i in range(len(sugerencia)):\n",
    "        peliculas = peliculas_Tabla_Pivot.index[sugerencia[i]]\n",
    "        for j in peliculas:\n",
    "            print(j)"
   ]
  },
  {
   "cell_type": "code",
   "execution_count": null,
   "id": "a6ba02e1-93c8-46ea-9957-56e589fb589b",
   "metadata": {},
   "outputs": [],
   "source": [
    "#Función recomendar_Pelicula prueba\n",
    "nombre_Pelicula = 'Toy Story (1995)'\n",
    "recomendar_Pelicula(nombre_Pelicula)"
   ]
  },
  {
   "cell_type": "code",
   "execution_count": null,
   "id": "b884377e-1c9d-44f9-bd86-7eba55f24239",
   "metadata": {},
   "outputs": [],
   "source": []
  }
 ],
 "metadata": {
  "kernelspec": {
   "display_name": "Python 3 (ipykernel)",
   "language": "python",
   "name": "python3"
  },
  "language_info": {
   "codemirror_mode": {
    "name": "ipython",
    "version": 3
   },
   "file_extension": ".py",
   "mimetype": "text/x-python",
   "name": "python",
   "nbconvert_exporter": "python",
   "pygments_lexer": "ipython3",
   "version": "3.9.0"
  }
 },
 "nbformat": 4,
 "nbformat_minor": 5
}
